{
 "cells": [
  {
   "attachments": {},
   "cell_type": "markdown",
   "metadata": {},
   "source": [
    "### Title: Automated Emotion Classification in Text-Based Content\n",
    "### Auther: Hicran Arnold"
   ]
  },
  {
   "attachments": {},
   "cell_type": "markdown",
   "metadata": {},
   "source": [
    "## Introduction"
   ]
  },
  {
   "attachments": {},
   "cell_type": "markdown",
   "metadata": {},
   "source": [
    "The exponential growth of digitial comminication has resulted in a massive amount of text based content that expresses a wide range of emotions. Understanding the emoition conveyed in this content is eseential for businesses, organizations, individual to better understand their audiences, and gauge public sentiment about their products and services. However, manual analysis of these texts is time-consuming and impractical, making it necessary to develop automated methods for emotion classification. This project aims to develop a machine learning model for emotion classification in text-based content, which will provide a more efficient and accurate method for analyzing the emotions conveyed in digital communication."
   ]
  },
  {
   "attachments": {},
   "cell_type": "markdown",
   "metadata": {},
   "source": [
    "## Objectives:"
   ]
  },
  {
   "attachments": {},
   "cell_type": "markdown",
   "metadata": {},
   "source": [
    "The main objective of this project are:\n",
    "\n",
    "1- Develop a machine learning model that accuratly classify different types of emoitions expresses in text-based content.\n",
    "\n",
    "2- To explore effectivness of different text prepprocessing techniques in improving the accuracy of sentiment analysis on our emotion dataset. Specifically, investigate the \n",
    "impact of techniques such as steaming, stop word removal on the performance of sentiment analysis models. \n",
    "\n",
    "3-To identify the most informative features for emotion classification in text and investigate the impact of different feature selection methods on the model's performance\n",
    "\n",
    "4-  Evaluate the performance of the emotion classification model using appropriate metrics such as accuracy, precision, recall, and F1-score. Additionally, conduct error analysis \n",
    "to gain insights into the model's strengths and weaknesses and to identify areas for further improvement.\n",
    "\n",
    "\n",
    "Research Questions:\n",
    "\n",
    "1- Can a machine learning model accurately classify different types of emotions expressed in text-based content, and if so, which model is most effective?\n",
    "\n",
    "2- What is the expected accuracy of the machine learning model in classifying different types of emotion based on text-based content?\n",
    "\n",
    "3- How does the performance of the sentiment analysis model vary when using different text preprocessing techniques?\n",
    "\n",
    "4- What are the most informative features for emotion classification in text, and how does the performance of a sentiment analysis model vary when using different feature selection methods?\n"
   ]
  },
  {
   "attachments": {},
   "cell_type": "markdown",
   "metadata": {},
   "source": [
    "## Methodology:"
   ]
  },
  {
   "attachments": {},
   "cell_type": "markdown",
   "metadata": {},
   "source": [
    "1. Data Collection: The data set  is English Twitter messages with six basic emotions: anger, fear, joy, love, sadness, and surprise. The data include approximately ... data points and inculudes test, training and valadation txt files. The data set is publicly available and can be foud at [PRAVEEN-Kaggle](https://www.kaggle.com/datasets/praveengovi/emotions-dataset-for-nlp?select=test.txt) and [dair-ai/emotion_dataset](https://github.com/dair-ai/emotion_dataset). \n",
    "(1)\n",
    "\n",
    "2. Preprocessing: The data will be processed by using different prep processing techniques like stop word removal, stemming/lemmatization, and spell checking to remove any noice, inconsistence, so that  remove any noise, inconsistencies, or irrelevant information from the data, so that the resulting model can accurately identify patterns and make predictions.\n",
    "\n",
    "3. Machine Learning Models: The research will implement and evaluate several machine learning models algorithms such as Logistic Regression, SVM, and KNN on the emotion dataset after applying various text preprocessing techniques.Planning to use Pyspark and Tensorflow machine learning library to implement these models. \n",
    "\n",
    "4. Evaluation: I will evaluate the performance of the machine learning models using standard evaluation metrics such as accuracy, precision, recall, and F1-score. I will use a train/test/validation split, with 70% of the data used for training, 15% for validation, and 15% for testing. During training, I will monitor the performance of the models on the validation set and If necessary, I will use early stopping to prevent overfitting.\n",
    "To further analyze the performance of the models, I will create confusion matrices for each model to visualize the distribution of true positives, false positives, true negatives, and false negatives. This will provide insights into the types of errors made by the models and allow me to fine-tune them accordingly.\n",
    "I will also conduct a thorough error analysis to identify the strengths and limitations of each approach. This will involve examining the misclassified instances to identify any patterns or trends that may indicate areas for improvement. "
   ]
  },
  {
   "attachments": {},
   "cell_type": "markdown",
   "metadata": {},
   "source": [
    "## Expected Results:"
   ]
  },
  {
   "attachments": {},
   "cell_type": "markdown",
   "metadata": {},
   "source": [
    "The expected results of my projects are:\n",
    "\n",
    "1. An accurately trained sentiment analysis model can classify different types of emotions in text-based content with high accuracy.\n",
    "2. A comparison of the performance of different text preprocessing techniques on the accuracy of sentiment analysis models, with findings that demonstrate the effectiveness of certain techniques in improving accuracy.\n",
    "3. An identification of the most informative features for emotion classification in text, with insight on how different feature selection methods impact perforance sentiment analysis models.\n",
    "4. To compare the performance of the developed sentiment analysis model with existing state-of-the-art models on benchmark emotion classification datasets, and demonstrate the superiority of our proposed model with statistically significant results, using metrics such as accuracy, precision, recall, and F1-score.\n"
   ]
  },
  {
   "attachments": {},
   "cell_type": "markdown",
   "metadata": {},
   "source": [
    "## Conclusion:"
   ]
  },
  {
   "attachments": {},
   "cell_type": "markdown",
   "metadata": {},
   "source": [
    "\n",
    "This project has the potential to contribute to the development of more accurate and efficient methods for emotion classification in social media texts, with applications in fields such as marketing, customer service, and public opinion analysis. The results of this project will also provide insights into the strengths and limitations of different machine learning approaches for emotion classification, and provide a foundation for future research in this area.\n",
    "\n"
   ]
  },
  {
   "attachments": {},
   "cell_type": "markdown",
   "metadata": {},
   "source": [
    "## Refrences "
   ]
  },
  {
   "attachments": {},
   "cell_type": "markdown",
   "metadata": {},
   "source": [
    "(1) Dataset \n",
    "\n",
    "Licence: Educational purposes only \n",
    "\n",
    "title = {CARER}: Contextualized Affect Representations for Emotion Recognition\n",
    "\n",
    "author = Saravia, Elvis  and Liu, Hsien-Chi Toby  and Huang, Yen-Hao  and Wu, Junlin  and Chen, Yi-Shin\n",
    "\n",
    "booktitle = Proceedings of the 2018 Conference on Empirical Methods in Natural Language Processing\n",
    "\n",
    "year = 2018\n",
    "\n",
    "address = Brussels, Belgium\n",
    "\n",
    "publisher = \"Association for Computational Linguistics\"\n",
    "\n",
    "url =  https://aclanthology.org/D18-1404/\n",
    "\n",
    "doi = \"10.18653/v1/D18-1404\",pages = \"3687--3697\n",
    "\n",
    "abstract = \"Emotions are expressed in nuanced ways, which varies by collective or individual experiences, knowledge, and beliefs. Therefore, to understand emotion, as conveyed through text, a robust mechanism capable of capturing and modeling different linguistic nuances and phenomena is needed. We propose a semi-supervised, graph-based algorithm to produce rich structural descriptors which serve as the building blocks for constructing contextualized affect representations from text. The pattern-based representations are further enriched with word embeddings and evaluated through several emotion recognition tasks. Our experimental results demonstrate that the proposed method outperforms state-of-the-art techniques on emotion recognition tasks.\",\n",
    "    \n",
    "\n"
   ]
  }
 ],
 "metadata": {
  "kernelspec": {
   "display_name": "Python 3",
   "language": "python",
   "name": "python3"
  },
  "language_info": {
   "codemirror_mode": {
    "name": "ipython",
    "version": 3
   },
   "file_extension": ".py",
   "mimetype": "text/x-python",
   "name": "python",
   "nbconvert_exporter": "python",
   "pygments_lexer": "ipython3",
   "version": "3.10.6"
  },
  "orig_nbformat": 4,
  "vscode": {
   "interpreter": {
    "hash": "916dbcbb3f70747c44a77c7bcd40155683ae19c65e1c03b4aa3499c5328201f1"
   }
  }
 },
 "nbformat": 4,
 "nbformat_minor": 2
}
