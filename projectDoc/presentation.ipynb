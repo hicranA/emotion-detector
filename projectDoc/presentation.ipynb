{
 "cells": [
  {
   "cell_type": "code",
   "execution_count": 60,
   "metadata": {},
   "outputs": [],
   "source": [
    "import pandas as pd "
   ]
  },
  {
   "cell_type": "code",
   "execution_count": 61,
   "metadata": {},
   "outputs": [
    {
     "data": {
      "text/html": [
       "<div>\n",
       "<style scoped>\n",
       "    .dataframe tbody tr th:only-of-type {\n",
       "        vertical-align: middle;\n",
       "    }\n",
       "\n",
       "    .dataframe tbody tr th {\n",
       "        vertical-align: top;\n",
       "    }\n",
       "\n",
       "    .dataframe thead th {\n",
       "        text-align: right;\n",
       "    }\n",
       "</style>\n",
       "<table border=\"1\" class=\"dataframe\">\n",
       "  <thead>\n",
       "    <tr style=\"text-align: right;\">\n",
       "      <th></th>\n",
       "      <th>dataModel</th>\n",
       "      <th>modelName</th>\n",
       "      <th>trainingTime</th>\n",
       "      <th>precision</th>\n",
       "      <th>recall</th>\n",
       "      <th>f1Score</th>\n",
       "      <th>dataFrameNo</th>\n",
       "    </tr>\n",
       "  </thead>\n",
       "  <tbody>\n",
       "    <tr>\n",
       "      <th>0</th>\n",
       "      <td>countVectorizer+iDF</td>\n",
       "      <td>svm</td>\n",
       "      <td>17.888</td>\n",
       "      <td>0.860</td>\n",
       "      <td>0.820</td>\n",
       "      <td>0.828</td>\n",
       "      <td>df1</td>\n",
       "    </tr>\n",
       "    <tr>\n",
       "      <th>1</th>\n",
       "      <td>countVectorizer+iDF</td>\n",
       "      <td>lr</td>\n",
       "      <td>1.548</td>\n",
       "      <td>0.862</td>\n",
       "      <td>0.804</td>\n",
       "      <td>0.817</td>\n",
       "      <td>df2</td>\n",
       "    </tr>\n",
       "    <tr>\n",
       "      <th>2</th>\n",
       "      <td>countVectorizer+iDF</td>\n",
       "      <td>nb</td>\n",
       "      <td>1.640</td>\n",
       "      <td>0.806</td>\n",
       "      <td>0.806</td>\n",
       "      <td>0.805</td>\n",
       "      <td>df3</td>\n",
       "    </tr>\n",
       "    <tr>\n",
       "      <th>3</th>\n",
       "      <td>countVectorizer+iDF+chisquare</td>\n",
       "      <td>svm</td>\n",
       "      <td>11.132</td>\n",
       "      <td>0.858</td>\n",
       "      <td>0.820</td>\n",
       "      <td>0.827</td>\n",
       "      <td>df4</td>\n",
       "    </tr>\n",
       "    <tr>\n",
       "      <th>4</th>\n",
       "      <td>countVectorizer+iDF+chisquare</td>\n",
       "      <td>lr</td>\n",
       "      <td>1.023</td>\n",
       "      <td>0.861</td>\n",
       "      <td>0.802</td>\n",
       "      <td>0.814</td>\n",
       "      <td>df5</td>\n",
       "    </tr>\n",
       "    <tr>\n",
       "      <th>5</th>\n",
       "      <td>countVectorizer+iDF+chisquare</td>\n",
       "      <td>nb</td>\n",
       "      <td>0.473</td>\n",
       "      <td>0.836</td>\n",
       "      <td>0.831</td>\n",
       "      <td>0.830</td>\n",
       "      <td>df6</td>\n",
       "    </tr>\n",
       "    <tr>\n",
       "      <th>6</th>\n",
       "      <td>unCleanData+countVectorizer+iDF</td>\n",
       "      <td>svm</td>\n",
       "      <td>7.980</td>\n",
       "      <td>0.873</td>\n",
       "      <td>0.845</td>\n",
       "      <td>0.850</td>\n",
       "      <td>df7</td>\n",
       "    </tr>\n",
       "    <tr>\n",
       "      <th>7</th>\n",
       "      <td>unCleanData+countVectorizer+iDF</td>\n",
       "      <td>lr</td>\n",
       "      <td>1.103</td>\n",
       "      <td>0.869</td>\n",
       "      <td>0.818</td>\n",
       "      <td>0.829</td>\n",
       "      <td>df8</td>\n",
       "    </tr>\n",
       "    <tr>\n",
       "      <th>8</th>\n",
       "      <td>unCleanData+countVectorizer+iDF</td>\n",
       "      <td>nb</td>\n",
       "      <td>0.422</td>\n",
       "      <td>0.830</td>\n",
       "      <td>0.831</td>\n",
       "      <td>0.830</td>\n",
       "      <td>df9</td>\n",
       "    </tr>\n",
       "    <tr>\n",
       "      <th>9</th>\n",
       "      <td>ngram+hashingtf+iDF</td>\n",
       "      <td>svm</td>\n",
       "      <td>10.965</td>\n",
       "      <td>0.685</td>\n",
       "      <td>0.435</td>\n",
       "      <td>0.524</td>\n",
       "      <td>df10</td>\n",
       "    </tr>\n",
       "    <tr>\n",
       "      <th>10</th>\n",
       "      <td>ngram+hashingtf+iDF</td>\n",
       "      <td>lr</td>\n",
       "      <td>1.053</td>\n",
       "      <td>0.689</td>\n",
       "      <td>0.436</td>\n",
       "      <td>0.527</td>\n",
       "      <td>df11</td>\n",
       "    </tr>\n",
       "    <tr>\n",
       "      <th>11</th>\n",
       "      <td>ngram+hashingtf+iDF</td>\n",
       "      <td>nb</td>\n",
       "      <td>0.416</td>\n",
       "      <td>0.416</td>\n",
       "      <td>0.420</td>\n",
       "      <td>0.417</td>\n",
       "      <td>df12</td>\n",
       "    </tr>\n",
       "  </tbody>\n",
       "</table>\n",
       "</div>"
      ],
      "text/plain": [
       "                          dataModel modelName  trainingTime  precision  \\\n",
       "0               countVectorizer+iDF       svm        17.888      0.860   \n",
       "1               countVectorizer+iDF        lr         1.548      0.862   \n",
       "2               countVectorizer+iDF        nb         1.640      0.806   \n",
       "3     countVectorizer+iDF+chisquare       svm        11.132      0.858   \n",
       "4     countVectorizer+iDF+chisquare        lr         1.023      0.861   \n",
       "5     countVectorizer+iDF+chisquare        nb         0.473      0.836   \n",
       "6   unCleanData+countVectorizer+iDF       svm         7.980      0.873   \n",
       "7   unCleanData+countVectorizer+iDF        lr         1.103      0.869   \n",
       "8   unCleanData+countVectorizer+iDF        nb         0.422      0.830   \n",
       "9               ngram+hashingtf+iDF       svm        10.965      0.685   \n",
       "10              ngram+hashingtf+iDF        lr         1.053      0.689   \n",
       "11              ngram+hashingtf+iDF        nb         0.416      0.416   \n",
       "\n",
       "    recall  f1Score dataFrameNo  \n",
       "0    0.820    0.828         df1  \n",
       "1    0.804    0.817         df2  \n",
       "2    0.806    0.805         df3  \n",
       "3    0.820    0.827         df4  \n",
       "4    0.802    0.814         df5  \n",
       "5    0.831    0.830         df6  \n",
       "6    0.845    0.850         df7  \n",
       "7    0.818    0.829         df8  \n",
       "8    0.831    0.830         df9  \n",
       "9    0.435    0.524        df10  \n",
       "10   0.436    0.527        df11  \n",
       "11   0.420    0.417        df12  "
      ]
     },
     "execution_count": 61,
     "metadata": {},
     "output_type": "execute_result"
    }
   ],
   "source": [
    "df = pd.read_csv('modelselection.csv')\n",
    "df"
   ]
  },
  {
   "cell_type": "code",
   "execution_count": 62,
   "metadata": {},
   "outputs": [
    {
     "data": {
      "text/plain": [
       "[<matplotlib.lines.Line2D at 0x7fdfbb264b80>]"
      ]
     },
     "execution_count": 62,
     "metadata": {},
     "output_type": "execute_result"
    },
    {
     "data": {

      "image/png": "[encoded data removed]",
      "text/plain": [
       "<Figure size 640x480 with 1 Axes>"
      ]
     },
     "metadata": {},
     "output_type": "display_data"
    }
   ],
   "source": [
    "# plot multiple columns such as population and year from dataframe\n",
    "import matplotlib.pyplot as plt \n",
    "# df.plot(x=\"dataFrameNo\", y=[\"f1Score\"],kind=\"line\", figsize=(10, 10))\n",
    "# df.plot(x=\"dataFrameNo\", y=[\"recall\"],kind=\"line\", figsize=(10, 10))\n",
    "plt.plot(df[[\"f1Score\"]])\n",
    "plt.plot(df[[\"recall\"]])\n",
    "plt.plot(df[[\"precision\"]])\n",
    "    "
   ]
  },
  {
   "cell_type": "code",

   "execution_count": 63,
   "metadata": {},
   "outputs": [
    {
     "data": {
      "text/plain": [
       "<AxesSubplot: xlabel='dataFrameNo'>"
      ]
     },
     "execution_count": 63,

     "metadata": {},
     "output_type": "execute_result"
    },
    {
     "data": {

      "image/png": "[encoded data removed]",

      "text/plain": [
       "<Figure size 1000x1000 with 1 Axes>"
      ]
     },
     "metadata": {},
     "output_type": "display_data"
    }
   ],
   "source": [
    "df.plot(x=\"dataFrameNo\", y=[\"f1Score\"],kind=\"line\", figsize=(10, 10))\n"
   ]
  },
  {
   "cell_type": "code",

   "execution_count": 64,

   "metadata": {},
   "outputs": [
    {
     "data": {
      "text/plain": [
       "dataModel       unCleanData+countVectorizer+iDF\n",
       "modelName                                   svm\n",

       "trainingTime                             17.888\n",
       "precision                                 0.873\n",
       "recall                                    0.845\n",
       "f1Score                                    0.85\n",
       "dataFrameNo                                 df9\n",
       "dtype: object"
      ]
     },
     "execution_count": 64,

     "metadata": {},
     "output_type": "execute_result"
    }
   ],
   "source": [
    "df.max()"
   ]
  },
  {
   "cell_type": "code",

   "execution_count": 65,
   "metadata": {},
   "outputs": [
    {
     "data": {
      "text/plain": [
       "<AxesSubplot: >"
      ]
     },

     "execution_count": 65,

     "metadata": {},
     "output_type": "execute_result"
    },
    {
     "data": {
      "image/png": "[encoded data removed]",
      "text/plain": [
       "<Figure size 640x480 with 1 Axes>"
      ]
     },
     "metadata": {},
     "output_type": "display_data"
    }
   ],
   "source": [
    "colours = {\"unCleanData+countVectorizer+iDF\": \"#44bd32\", \"countVectorizer+iDF\": \"#44bd32\", \"ngram+hashingtf+iDF\":\"#273c75\"}\n",
    "df[\"trainingTime\"].plot(kind=\"bar\")"
   ]
  },
  {
   "cell_type": "code",
   "execution_count": 66,
   "metadata": {},
   "outputs": [
    {
     "data": {
      "text/plain": [
       "<AxesSubplot: xlabel='trainingTime', ylabel='modelName'>"
      ]
     },
     "execution_count": 66,
     "metadata": {},
     "output_type": "execute_result"
    },
    {
     "data": {

      "image/png": "[encoded data removed]",
      "text/plain": [
       "<Figure size 640x480 with 1 Axes>"
      ]
     },
     "metadata": {},
     "output_type": "display_data"
    }
   ],
   "source": [
    "import seaborn as sns\n",
    "\n",
    "\n",
    "sns.boxplot( x=df[\"trainingTime\"], y=df[\"modelName\"] )"
   ]
  },
  {
   "cell_type": "code",
   "execution_count": 67,
   "metadata": {},
   "outputs": [
    {
     "data": {
      "text/plain": [
       "<AxesSubplot: xlabel='trainingTime', ylabel='dataModel'>"
      ]
     },
     "execution_count": 67,
     "metadata": {},
     "output_type": "execute_result"
    },
    {
     "data": {
      "image/png": "[encoded data removed]",

      "text/plain": [
       "<Figure size 640x480 with 1 Axes>"
      ]
     },
     "metadata": {},
     "output_type": "display_data"
    }
   ],
   "source": [
    "\n",
    "sns.boxplot( x=df[\"trainingTime\"], y=df[\"dataModel\"] )"
   ]
  },
  {
   "cell_type": "code",
   "execution_count": 4,
   "metadata": {},
   "outputs": [
    {
     "name": "stdout",
     "output_type": "stream",
     "text": [
      "+--------------------+-------+-----+--------------------+--------------------+--------------------+--------------------+\n",
      "|                text|emotion|label|              text_c|               words|         rawFeatures|         featuresIDF|\n",
      "+--------------------+-------+-----+--------------------+--------------------+--------------------+--------------------+\n",
      "|im feeling quite ...|sadness|    1|  feel quite sad ...|[im, feeling, qui...|(1000,[2,7,8,11,1...|(1000,[2,7,8,11,1...|\n",
      "|i feel like i am ...|sadness|    1|  feel like    st...|[i, feel, like, i...|(1000,[0,1,5,8,12...|(1000,[0,1,5,8,12...|\n",
      "|i feel like a fai...|   love|    4|  feel like   fai...|[i, feel, like, a...|(1000,[0,1,5,12,6...|(1000,[0,1,5,12,6...|\n",
      "+--------------------+-------+-----+--------------------+--------------------+--------------------+--------------------+\n",
      "only showing top 3 rows\n",
      "\n",
      "None\n"
     ]
    },
    {
     "name": "stderr",
     "output_type": "stream",
     "text": [
      "                                                                                \r"
     ]
    },
    {
     "name": "stdout",
     "output_type": "stream",
     "text": [
      "f1 on validation set for best model: 0.8520112013671158\n",
      "f1 on validation set for best model: 0.8520112013671158\n"
     ]
    },
    {
     "name": "stderr",
     "output_type": "stream",
     "text": [
      "                                                                                \r"
     ]
    }
   ],
   "source": [
    "import findspark\n",
    "findspark.init()\n",
    "from pyspark import SparkContext\n",
    "from pyspark.sql import SparkSession\n",
    "from pyspark.ml.classification import LinearSVC, OneVsRest\n",
    "from pyspark.ml.evaluation import MulticlassClassificationEvaluator\n",
    "from pyspark.ml.tuning import CrossValidator, ParamGridBuilder\n",
    "from pyspark.ml import Pipeline\n",
    "from pyspark.mllib.evaluation import MulticlassMetrics\n",
    "sc = SparkContext(\"local\")\n",
    "spark = SparkSession.builder.getOrCreate()\n",
    "\n",
    "# read the PySpark DataFrame from the Parquet file\n",
    "df_training_m3 = spark.read.parquet(\"data/transformed_training_p3.parquet\")\n",
    "df_testing_m3 = spark.read.parquet(\"data/transformed_test_p3.parquet\")\n",
    "df_val_m3 = spark.read.parquet(\"data/transformed_val_p3.parquet\")\n",
    "df_training_m3.cache()\n",
    "df_testing_m3.cache()\n",
    "df_val_m3.cache()\n",
    "print(df_val_m3.show(3))\n",
    "\n",
    "# import time\n",
    "classifier = LinearSVC(featuresCol = \"featuresIDF\", weightCol=\"weight\", labelCol=\"label\")\n",
    "# Define OneVsRest strategy\n",
    "ovr = OneVsRest(classifier=classifier, labelCol=\"label\", featuresCol=\"featuresIDF\", weightCol=\"weight\")\n",
    "pipeline = Pipeline(stages=[ovr])\n",
    "# model = pipeline.fit(df_training_m3)\n",
    "\n",
    "\n",
    "evaluator = MulticlassClassificationEvaluator(predictionCol=\"prediction\", labelCol=\"label\", metricName=\"f1\")\n",
    "\n",
    "# Define the hyperparameter grid\n",
    "param_grid = ParamGridBuilder() \\\n",
    "    .addGrid(classifier.maxIter, [10, 50, 100]) \\\n",
    "    .addGrid(classifier.regParam,  [0.1, 0.01, 0.001])\\\n",
    "    .addGrid(classifier.weightCol, ['weight']) \\\n",
    "    .build()\n",
    "#0.01, 0.1, 1.0\n",
    "# Define the cross-validator\n",
    "cv = CrossValidator(estimator=pipeline, estimatorParamMaps=param_grid, evaluator=evaluator, numFolds=3)\n",
    "\n",
    "# Fit the cross-validator to the training set\n",
    "cv_model = cv.fit(df_training_m3)\n",
    "\n",
    "# Evaluate the best model on the validation set\n",
    "best_model = cv_model.bestModel\n",
    "predictions = best_model.transform(df_val_m3)\n",
    "f1 = evaluator.evaluate(predictions)\n",
    "print(\"f1 on validation set for best model:\", f1)\n",
    "\n",
    "# Evaluate the best model on the validation set\n",
    "best_model = cv_model.bestModel\n",
    "predictions2 = best_model.transform(df_testing_m3)\n",
    "f2 = evaluator.evaluate(predictions)\n",
    "print(\"f1 on validation set for best model:\", f2)"
   ]
  },
  {
   "cell_type": "code",
   "execution_count": 68,
   "metadata": {},
   "outputs": [
    {
     "name": "stderr",
     "output_type": "stream",
     "text": [
      "/home/hicran/.local/lib/python3.10/site-packages/pyspark/sql/context.py:157: FutureWarning: Deprecated in 3.0.0. Use SparkSession.builder.getOrCreate() instead.\n",
      "  warnings.warn(\n",
      "                                                                                \r"
     ]
    }
   ],
   "source": [
    "predictions = best_model.transform(df_testing_m3).cache()\n",
    "predictionAndLabels = predictions.select(\"label\",\"prediction\").rdd.map(lambda x: (float(x[1]), float(x[0]))).cache()\n",
    "# Calculate evaluation metrics\n",
    "metrics = MulticlassMetrics(predictionAndLabels)"
   ]
  },
  {
   "cell_type": "code",
   "execution_count": 82,
   "metadata": {},
   "outputs": [
    {
     "name": "stdout",
     "output_type": "stream",
     "text": [
      "0.8677476693414614\n"
     ]
    }
   ],
   "source": [
    "precision = metrics.weightedPrecision\n",
    "recall = metrics.weightedRecall\n",
    "f1Score = metrics.weightedFMeasure(beta=1.0)\n",
    "accuracy = metrics.accuracy\n",
    "print(precision)"
   ]
  },
  {
   "cell_type": "code",
   "execution_count": 69,
   "metadata": {},
   "outputs": [
    {
     "name": "stdout",
     "output_type": "stream",
     "text": [
      "Confusion matrix:\n",
      "Actual\\Predicted\t1.0\t\t0.0\t\t3.0\t\t2.0\t\t4.0\t\t5.0\t\t\n",
      "1.0\t\t667     \t\t10      \t\t4       \t\t4       \t\t8       \t\t2       \t\t\n",
      "0.0\t\t33      \t\t537     \t\t6       \t\t2       \t\t3       \t\t0       \t\t\n",
      "3.0\t\t30      \t\t25      \t\t219     \t\t1       \t\t0       \t\t0       \t\t\n",
      "2.0\t\t17      \t\t19      \t\t9       \t\t178     \t\t1       \t\t0       \t\t\n",
      "4.0\t\t64      \t\t1       \t\t2       \t\t1       \t\t90      \t\t1       \t\t\n",
      "5.0\t\t15      \t\t1       \t\t0       \t\t17      \t\t0       \t\t33      \t\t\n"
     ]
    }
   ],
   "source": [
    "labels = predictionAndLabels.map(lambda x: x[1]).distinct().collect()\n",
    "confusion_matrix = metrics.confusionMatrix().toArray().astype(int)\n",
    "print(\"Confusion matrix:\")\n",
    "print(\"Actual\\Predicted\\t\", end=\"\")\n",
    "for label in labels:\n",
    "    print(f\"{label}\\t\\t\", end=\"\")\n",
    "print(\"\")\n",
    "for i in range(len(labels)):\n",
    "    print(f\"{labels[i]}\\t\\t\", end=\"\")\n",
    "    for j in range(len(labels)):\n",
    "        print(f\"{confusion_matrix[i][j]:<8}\\t\\t\", end=\"\")\n",
    "    print(\"\")"
   ]
  },
  {
   "cell_type": "code",
   "execution_count": 70,
   "metadata": {},
   "outputs": [
    {
     "name": "stdout",
     "output_type": "stream",
     "text": [
      "Confusion matrix:\n",
      "Actual\\Predicted\tsadness\t\tJoy\t\tfear\t\tanger\t\tlove\t\tsurprize\t\t\n",
      "sadness\t\t667     \t\t10      \t\t4       \t\t4       \t\t8       \t\t2       \t\t\n",
      "Joy\t\t33      \t\t537     \t\t6       \t\t2       \t\t3       \t\t0       \t\t\n",
      "fear\t\t30      \t\t25      \t\t219     \t\t1       \t\t0       \t\t0       \t\t\n",
      "anger\t\t17      \t\t19      \t\t9       \t\t178     \t\t1       \t\t0       \t\t\n",
      "love\t\t64      \t\t1       \t\t2       \t\t1       \t\t90      \t\t1       \t\t\n",
      "surprize\t\t15      \t\t1       \t\t0       \t\t17      \t\t0       \t\t33      \t\t\n"
     ]
    }
   ],
   "source": [
    "# create dictionary to map numeric labels to string labels\n",
    "label_map = {0:\"Joy\", 1: \"sadness\", 2: \"anger\",3:\"fear\", 4:\"love\", 5:\"surprize\"}\n",
    "predicted_labels = predictionAndLabels.map(lambda x: x[0]).distinct().collect()\n",
    "actual_labels = predictionAndLabels.map(lambda x: x[1]).distinct().collect()\n",
    "# map numeric labels to string labels\n",
    "predicted_labels = [label_map[label] for label in predicted_labels]\n",
    "actual_labels = [label_map[label] for label in actual_labels]\n",
    "# compute confusion matrix\n",
    "confusion_matrix = metrics.confusionMatrix().toArray().astype(int)\n",
    "#print confusion matrix\n",
    "print(\"Confusion matrix:\")\n",
    "print(\"Actual\\Predicted\\t\", end=\"\")\n",
    "for label in predicted_labels:\n",
    "    print(f\"{label}\\t\\t\", end=\"\")\n",
    "print(\"\")\n",
    "for i in range(len(actual_labels)):\n",
    "    print(f\"{actual_labels[i]}\\t\\t\", end=\"\")\n",
    "    for j in range(len(predicted_labels)):\n",
    "        print(f\"{confusion_matrix[i][j]:<8}\\t\\t\", end=\"\")\n",
    "    print(\"\")\n",
    "\n",
    "# # # compute and print class-wise precision, recall, and F1-score metrics\n",
    "# for label in actual_labels:\n",
    "#     precision = metrics.precision(label)\n",
    "#     recall = metrics.recall(label)\n",
    "#     f1_score = metrics.fMeasure(label, beta=1.0)\n",
    "#     print(f\"\\nClass '{label}' metrics:\")\n",
    "#     print(f\"Precision: {precision:.2f}\")\n",
    "#     print(f\"Recall: {recall:.2f}\")\n",
    "#     print(f\"F1-score: {f1_score:.2f}\")"
   ]
  },
  {
   "cell_type": "code",
   "execution_count": 73,
   "metadata": {},
   "outputs": [
    {
     "name": "stdout",
     "output_type": "stream",
     "text": [
      "Joy\n",
      "Precision: 0.81\n",
      "Recall: 0.96\n",
      " \n",
      "sadness\n",
      "Precision: 0.91\n",
      "Recall: 0.92\n",
      " \n",
      "anger\n",
      "Precision: 0.91\n",
      "Recall: 0.80\n",
      " \n",
      "fear\n",
      "Precision: 0.88\n",
      "Recall: 0.79\n",
      " \n",
      "love\n",
      "Precision: 0.88\n",
      "Recall: 0.57\n",
      " \n",
      "surprize\n",
      "Precision: 0.92\n",
      "Recall: 0.50\n",
      " \n"
     ]
    }
   ],
   "source": [
    "# compute and print class-wise precision, recall, and F1-score metrics\n",
    "for label in range(6):\n",
    "    print(label_map[label])\n",
    "    precision = metrics.precision(label)\n",
    "    recall = metrics.recall(label)\n",
    "    # f1_score = metrics.fMeasure(label, beta=1.0)\n",
    "    # print(f\"\\nClass '{label}' metrics:\")\n",
    "    print(f\"Precision: {precision:.2f}\")\n",
    "    print(f\"Recall: {recall:.2f}\")\n",
    "    print(\" \")\n",
    "    # print(f\"F1-score: {f1_score:.2f}\")"
   ]
  },
  {
   "cell_type": "code",
   "execution_count": 3,
   "metadata": {},
   "outputs": [
    {
     "name": "stdout",
     "output_type": "stream",
     "text": [
      "23/02/27 18:49:17 ERROR Instrumentation: java.lang.IllegalStateException: Cannot call methods on a stopped SparkContext.\n",
      "This stopped SparkContext was created at:\n",
      "\n",
      "org.apache.spark.api.java.JavaSparkContext.<init>(JavaSparkContext.scala:58)\n",
      "sun.reflect.NativeConstructorAccessorImpl.newInstance0(Native Method)\n",
      "sun.reflect.NativeConstructorAccessorImpl.newInstance(NativeConstructorAccessorImpl.java:62)\n",
      "sun.reflect.DelegatingConstructorAccessorImpl.newInstance(DelegatingConstructorAccessorImpl.java:45)\n",
      "java.lang.reflect.Constructor.newInstance(Constructor.java:423)\n",
      "py4j.reflection.MethodInvoker.invoke(MethodInvoker.java:247)\n",
      "py4j.reflection.ReflectionEngine.invoke(ReflectionEngine.java:357)\n",
      "py4j.Gateway.invoke(Gateway.java:238)\n",
      "py4j.commands.ConstructorCommand.invokeConstructor(ConstructorCommand.java:80)\n",
      "py4j.commands.ConstructorCommand.execute(ConstructorCommand.java:69)\n",
      "py4j.ClientServerConnection.waitForCommands(ClientServerConnection.java:182)\n",
      "py4j.ClientServerConnection.run(ClientServerConnection.java:106)\n",
      "java.lang.Thread.run(Thread.java:750)\n",
      "\n",
      "The currently active SparkContext was created at:\n",
      "\n",
      "org.apache.spark.api.java.JavaSparkContext.<init>(JavaSparkContext.scala:58)\n",
      "sun.reflect.NativeConstructorAccessorImpl.newInstance0(Native Method)\n",
      "sun.reflect.NativeConstructorAccessorImpl.newInstance(NativeConstructorAccessorImpl.java:62)\n",
      "sun.reflect.DelegatingConstructorAccessorImpl.newInstance(DelegatingConstructorAccessorImpl.java:45)\n",
      "java.lang.reflect.Constructor.newInstance(Constructor.java:423)\n",
      "py4j.reflection.MethodInvoker.invoke(MethodInvoker.java:247)\n",
      "py4j.reflection.ReflectionEngine.invoke(ReflectionEngine.java:357)\n",
      "py4j.Gateway.invoke(Gateway.java:238)\n",
      "py4j.commands.ConstructorCommand.invokeConstructor(ConstructorCommand.java:80)\n",
      "py4j.commands.ConstructorCommand.execute(ConstructorCommand.java:69)\n",
      "py4j.ClientServerConnection.waitForCommands(ClientServerConnection.java:182)\n",
      "py4j.ClientServerConnection.run(ClientServerConnection.java:106)\n",
      "java.lang.Thread.run(Thread.java:750)\n",
      "         \n",
      "\tat org.apache.spark.SparkContext.assertNotStopped(SparkContext.scala:120)\n",
      "\tat org.apache.spark.SparkContext.broadcast(SparkContext.scala:1526)\n",
      "\tat org.apache.spark.ml.optim.loss.RDDLossFunction.calculate(RDDLossFunction.scala:57)\n",
      "\tat org.apache.spark.ml.optim.loss.RDDLossFunction.calculate(RDDLossFunction.scala:47)\n",
      "\tat breeze.optimize.CachedDiffFunction.calculate(CachedDiffFunction.scala:24)\n",
      "\tat breeze.optimize.OWLQN$$anon$1.calculate(OWLQN.scala:75)\n",
      "\tat breeze.optimize.OWLQN$$anon$1.calculate(OWLQN.scala:72)\n",
      "\tat breeze.optimize.BacktrackingLineSearch.iterations(BacktrackingLineSearch.scala:30)\n",
      "\tat breeze.optimize.ApproximateLineSearch.minimize(LineSearch.scala:26)\n",
      "\tat breeze.optimize.ApproximateLineSearch.minimize$(LineSearch.scala:26)\n",
      "\tat breeze.optimize.BacktrackingLineSearch.minimize(BacktrackingLineSearch.scala:11)\n",
      "\tat breeze.optimize.OWLQN.determineStepSize(OWLQN.scala:87)\n",
      "\tat breeze.optimize.OWLQN.determineStepSize(OWLQN.scala:17)\n",
      "\tat breeze.optimize.FirstOrderMinimizer.$anonfun$infiniteIterations$1(FirstOrderMinimizer.scala:60)\n",
      "\tat scala.collection.Iterator$$anon$7.next(Iterator.scala:140)\n",
      "\tat breeze.util.IteratorImplicits$RichIterator$$anon$2.next(Implicits.scala:74)\n",
      "\tat org.apache.spark.ml.classification.LinearSVC.trainImpl(LinearSVC.scala:324)\n",
      "\tat org.apache.spark.ml.classification.LinearSVC.$anonfun$train$1(LinearSVC.scala:244)\n",
      "\tat org.apache.spark.ml.util.Instrumentation$.$anonfun$instrumented$1(Instrumentation.scala:191)\n",
      "\tat scala.util.Try$.apply(Try.scala:213)\n",
      "\tat org.apache.spark.ml.util.Instrumentation$.instrumented(Instrumentation.scala:191)\n",
      "\tat org.apache.spark.ml.classification.LinearSVC.train(LinearSVC.scala:171)\n",
      "\tat org.apache.spark.ml.classification.LinearSVC.train(LinearSVC.scala:76)\n",
      "\tat org.apache.spark.ml.Predictor.fit(Predictor.scala:151)\n",
      "\tat sun.reflect.GeneratedMethodAccessor132.invoke(Unknown Source)\n",
      "\tat sun.reflect.DelegatingMethodAccessorImpl.invoke(DelegatingMethodAccessorImpl.java:43)\n",
      "\tat java.lang.reflect.Method.invoke(Method.java:498)\n",
      "\tat py4j.reflection.MethodInvoker.invoke(MethodInvoker.java:244)\n",
      "\tat py4j.reflection.ReflectionEngine.invoke(ReflectionEngine.java:357)\n",
      "\tat py4j.Gateway.invoke(Gateway.java:282)\n",
      "\tat py4j.commands.AbstractCommand.invokeMethod(AbstractCommand.java:132)\n",
      "\tat py4j.commands.CallCommand.execute(CallCommand.java:79)\n",
      "\tat py4j.ClientServerConnection.waitForCommands(ClientServerConnection.java:182)\n",
      "\tat py4j.ClientServerConnection.run(ClientServerConnection.java:106)\n",
      "\tat java.lang.Thread.run(Thread.java:750)\n",
      "\n",
      "23/02/27 18:49:18 ERROR Instrumentation: java.lang.IllegalStateException: SparkContext has been shutdown\n",
      "\tat org.apache.spark.SparkContext.runJob(SparkContext.scala:2220)\n",
      "\tat org.apache.spark.SparkContext.runJob(SparkContext.scala:2323)\n",
      "\tat org.apache.spark.rdd.RDD.$anonfun$fold$1(RDD.scala:1174)\n",
      "\tat org.apache.spark.rdd.RDDOperationScope$.withScope(RDDOperationScope.scala:151)\n",
      "\tat org.apache.spark.rdd.RDDOperationScope$.withScope(RDDOperationScope.scala:112)\n",
      "\tat org.apache.spark.rdd.RDD.withScope(RDD.scala:406)\n",
      "\tat org.apache.spark.rdd.RDD.fold(RDD.scala:1168)\n",
      "\tat org.apache.spark.rdd.RDD.$anonfun$treeAggregate$2(RDD.scala:1267)\n",
      "\tat org.apache.spark.rdd.RDDOperationScope$.withScope(RDDOperationScope.scala:151)\n",
      "\tat org.apache.spark.rdd.RDDOperationScope$.withScope(RDDOperationScope.scala:112)\n",
      "\tat org.apache.spark.rdd.RDD.withScope(RDD.scala:406)\n",
      "\tat org.apache.spark.rdd.RDD.treeAggregate(RDD.scala:1228)\n",
      "\tat org.apache.spark.rdd.RDD.$anonfun$treeAggregate$1(RDD.scala:1214)\n",
      "\tat org.apache.spark.rdd.RDDOperationScope$.withScope(RDDOperationScope.scala:151)\n",
      "\tat org.apache.spark.rdd.RDDOperationScope$.withScope(RDDOperationScope.scala:112)\n",
      "\tat org.apache.spark.rdd.RDD.withScope(RDD.scala:406)\n",
      "\tat org.apache.spark.rdd.RDD.treeAggregate(RDD.scala:1214)\n",
      "\tat org.apache.spark.ml.stat.Summarizer$.getClassificationSummarizers(Summarizer.scala:233)\n",
      "\tat org.apache.spark.ml.classification.LinearSVC.$anonfun$train$1(LinearSVC.scala:187)\n",
      "\tat org.apache.spark.ml.util.Instrumentation$.$anonfun$instrumented$1(Instrumentation.scala:191)\n",
      "\tat scala.util.Try$.apply(Try.scala:213)\n",
      "\tat org.apache.spark.ml.util.Instrumentation$.instrumented(Instrumentation.scala:191)\n",
      "\tat org.apache.spark.ml.classification.LinearSVC.train(LinearSVC.scala:171)\n",
      "\tat org.apache.spark.ml.classification.LinearSVC.train(LinearSVC.scala:76)\n",
      "\tat org.apache.spark.ml.Predictor.fit(Predictor.scala:151)\n",
      "\tat sun.reflect.GeneratedMethodAccessor132.invoke(Unknown Source)\n",
      "\tat sun.reflect.DelegatingMethodAccessorImpl.invoke(DelegatingMethodAccessorImpl.java:43)\n",
      "\tat java.lang.reflect.Method.invoke(Method.java:498)\n",
      "\tat py4j.reflection.MethodInvoker.invoke(MethodInvoker.java:244)\n",
      "\tat py4j.reflection.ReflectionEngine.invoke(ReflectionEngine.java:357)\n",
      "\tat py4j.Gateway.invoke(Gateway.java:282)\n",
      "\tat py4j.commands.AbstractCommand.invokeMethod(AbstractCommand.java:132)\n",
      "\tat py4j.commands.CallCommand.execute(CallCommand.java:79)\n",
      "\tat py4j.ClientServerConnection.waitForCommands(ClientServerConnection.java:182)\n",
      "\tat py4j.ClientServerConnection.run(ClientServerConnection.java:106)\n",
      "\tat java.lang.Thread.run(Thread.java:750)\n",
      "\n"
     ]
    }
   ],
   "source": [
    "sc.stop()\n"
   ]
  }
 ],
 "metadata": {
  "kernelspec": {
   "display_name": "Python 3",
   "language": "python",
   "name": "python3"
  },
  "language_info": {
   "codemirror_mode": {
    "name": "ipython",
    "version": 3
   },
   "file_extension": ".py",
   "mimetype": "text/x-python",
   "name": "python",
   "nbconvert_exporter": "python",
   "pygments_lexer": "ipython3",
   "version": "3.10.6"
  },
  "orig_nbformat": 4,
  "vscode": {
   "interpreter": {
    "hash": "916dbcbb3f70747c44a77c7bcd40155683ae19c65e1c03b4aa3499c5328201f1"
   }
  }
 },
 "nbformat": 4,
 "nbformat_minor": 2
}
