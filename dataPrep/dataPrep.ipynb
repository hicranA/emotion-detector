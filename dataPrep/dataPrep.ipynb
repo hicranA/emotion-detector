{
 "cells": [
  {
   "attachments": {},
   "cell_type": "markdown",
   "metadata": {},
   "source": [
    "## Reading DF"
   ]
  },
  {
   "cell_type": "code",
   "execution_count": 2,
   "metadata": {},
   "outputs": [
    {
     "name": "stdout",
     "output_type": "stream",
     "text": [
      "23/02/22 21:53:56 WARN Utils: Your hostname, ubuntu-hadoop resolves to a loopback address: 127.0.1.1; using 10.0.2.15 instead (on interface enp0s3)\n",
      "23/02/22 21:53:56 WARN Utils: Set SPARK_LOCAL_IP if you need to bind to another address\n"
     ]
    },
    {
     "name": "stderr",
     "output_type": "stream",
     "text": [
      "Setting default log level to \"WARN\".\n",
      "To adjust logging level use sc.setLogLevel(newLevel). For SparkR, use setLogLevel(newLevel).\n"
     ]
    },
    {
     "name": "stdout",
     "output_type": "stream",
     "text": [
      "23/02/22 21:53:58 WARN NativeCodeLoader: Unable to load native-hadoop library for your platform... using builtin-java classes where applicable\n"
     ]
    }
   ],
   "source": [
    "\n",
    "from pyspark import SparkContext\n",
    "from pyspark.sql import SparkSession\n",
    "sc = SparkContext(\"local[*]\")\n",
    "spark = SparkSession.builder.getOrCreate()\n",
    "import pandas as pd  \n"
   ]
  },
  {
   "cell_type": "code",
   "execution_count": 3,
   "metadata": {},
   "outputs": [],
   "source": [
    "spark = SparkSession.builder.getOrCreate()\n",
    "from  pyspark.sql.functions import split"
   ]
  },
  {
   "attachments": {},
   "cell_type": "markdown",
   "metadata": {},
   "source": [
    "## reading the data "
   ]
  },
  {
   "cell_type": "code",
   "execution_count": 4,
   "metadata": {},
   "outputs": [
    {
     "name": "stderr",
     "output_type": "stream",
     "text": [
      "                                                                                \r"
     ]
    },
    {
     "name": "stdout",
     "output_type": "stream",
     "text": [
      "+----------------------------------------------------------------------+-------+\n",
      "|text                                                                  |emotion|\n",
      "+----------------------------------------------------------------------+-------+\n",
      "|im feeling quite sad and sorry for myself but ill snap out of it soon |sadness|\n",
      "|i feel like i am still looking at a blank canvas blank pieces of paper|sadness|\n",
      "|i feel like a faithful servant                                        |love   |\n",
      "|i am just feeling cranky and blue                                     |anger  |\n",
      "+----------------------------------------------------------------------+-------+\n",
      "only showing top 4 rows\n",
      "\n",
      "None\n"
     ]
    }
   ],
   "source": [
    "file_path_testing =\"../data/test.txt\"\n",
    "file_path_training= \"../data/train.txt\"\n",
    "file_path_val= \"../data/val.txt\"\n",
    "\n",
    "\n",
    "def readFile(file_path):\n",
    "    df_row = spark.read.csv(file_path)\n",
    "    # print(\"original\")\n",
    "    # print(df_row.show(4,False))\n",
    "    df= df_row.withColumn(\"text\", split(df_row['_c0'], ';').getItem(0))\\\n",
    "            .withColumn('emotion', split(df_row['_c0'], ';').getItem(1))\n",
    "    df1= df.select(\"text\", \"emotion\")\n",
    "    return df1\n",
    "\n",
    "df_training = readFile(file_path= file_path_training)\n",
    "df_testing = readFile(file_path= file_path_training)\n",
    "df_val = readFile(file_path= file_path_val)\n",
    "print(df_val.show(4,False))"
   ]
  },
  {
   "attachments": {},
   "cell_type": "markdown",
   "metadata": {},
   "source": [
    "## data prep"
   ]
  },
  {
   "cell_type": "code",
   "execution_count": 5,
   "metadata": {},
   "outputs": [
    {
     "name": "stderr",
     "output_type": "stream",
     "text": [
      "                                                                                \r"
     ]
    },
    {
     "name": "stdout",
     "output_type": "stream",
     "text": [
      "training size  (16000, 2) data points\n"
     ]
    },
    {
     "name": "stderr",
     "output_type": "stream",
     "text": [
      "                                                                                \r"
     ]
    },
    {
     "name": "stdout",
     "output_type": "stream",
     "text": [
      "testing size  (16000, 2) data points\n",
      "validation size  (2000, 2) data points\n"
     ]
    }
   ],
   "source": [
    "import pandas as pd \n",
    "print(\"training size \",df_training.toPandas().shape , \"data points\") \n",
    "print(\"testing size \",df_testing.toPandas().shape, \"data points\")\n",
    "print(\"validation size \",df_val.toPandas().shape, \"data points\") "
   ]
  },
  {
   "attachments": {},
   "cell_type": "markdown",
   "metadata": {},
   "source": [
    "we see that we have unbalance data we have a lot of joy and sadness label and very little surprise and fear"
   ]
  },
  {
   "cell_type": "code",
   "execution_count": 9,
   "metadata": {},
   "outputs": [
    {
     "name": "stdout",
     "output_type": "stream",
     "text": [
      "+--------+\n",
      "| emotion|\n",
      "+--------+\n",
      "|     joy|\n",
      "|    love|\n",
      "|   anger|\n",
      "|    fear|\n",
      "|surprise|\n",
      "| sadness|\n",
      "+--------+\n",
      "\n",
      "training None\n",
      "+--------+-----+\n",
      "| emotion|count|\n",
      "+--------+-----+\n",
      "|     joy| 5362|\n",
      "|    love| 1304|\n",
      "|   anger| 2159|\n",
      "|    fear| 1937|\n",
      "|surprise|  572|\n",
      "| sadness| 4666|\n",
      "+--------+-----+\n",
      "\n",
      "training class count None\n"
     ]
    }
   ],
   "source": [
    "print(\"training\", df_training.select(\"emotion\").distinct().show())\n",
    "print(\"training class count\", df_training.groupBy(\"emotion\").count().show())"
   ]
  },
  {
   "attachments": {},
   "cell_type": "markdown",
   "metadata": {},
   "source": [
    "# convert labels to the numbers "
   ]
  },
  {
   "cell_type": "code",
   "execution_count": 10,
   "metadata": {},
   "outputs": [
    {
     "name": "stdout",
     "output_type": "stream",
     "text": [
      "+--------------------+-------+-----+\n",
      "|                text|emotion|class|\n",
      "+--------------------+-------+-----+\n",
      "|i didnt feel humi...|sadness|    1|\n",
      "|i can go from fee...|sadness|    1|\n",
      "|im grabbing a min...|  anger|    2|\n",
      "|i am ever feeling...|   love|    4|\n",
      "|i am feeling grouchy|  anger|    2|\n",
      "+--------------------+-------+-----+\n",
      "only showing top 5 rows\n",
      "\n"
     ]
    }
   ],
   "source": [
    "from pyspark.ml.feature import StringIndexer # to convert class labels to numeric\n",
    "from pyspark.sql.functions import col\n",
    "# Convert sentiment to numbers  joy =0 love =1 \n",
    "#converting class labels\n",
    "string_indexer = StringIndexer(inputCol=\"emotion\",outputCol=\"class\")\n",
    "\n",
    "# fit the StringIndexer to the DataFrame and transform the DataFrame to add the 'fruits_numeric' column\n",
    "df_class = string_indexer.fit(df_training).transform(df_training)\\\n",
    ".withColumn('class', col('class').cast(\"integer\"))\n",
    "df_class.show(5)"
   ]
  },
  {
   "cell_type": "code",
   "execution_count": 11,
   "metadata": {},
   "outputs": [
    {
     "name": "stdout",
     "output_type": "stream",
     "text": [
      "+--------+-----+-----+\n",
      "|emotion |class|count|\n",
      "+--------+-----+-----+\n",
      "|sadness |1    |4666 |\n",
      "|love    |4    |1304 |\n",
      "|surprise|5    |572  |\n",
      "|joy     |0    |5362 |\n",
      "|fear    |3    |1937 |\n",
      "|anger   |2    |2159 |\n",
      "+--------+-----+-----+\n",
      "\n",
      "training class count None\n"
     ]
    }
   ],
   "source": [
    "# fit the StringIndexer to the DataFrame and transform the DataFrame to add the 'class_numeric' column\n",
    "df_class = string_indexer.fit(df_training).transform(df_training).withColumn('class', col('class').cast(\"integer\"))\n",
    "print(\"training class count\", df_class.groupBy(\"emotion\",\"class\").count()\n",
    ".show(truncate=False))\n"
   ]
  },
  {
   "cell_type": "code",
   "execution_count": 19,
   "metadata": {},
   "outputs": [
    {
     "name": "stdout",
     "output_type": "stream",
     "text": [
      "+--------+-----+\n",
      "| emotion|class|\n",
      "+--------+-----+\n",
      "| sadness|    1|\n",
      "|    love|    4|\n",
      "|surprise|    5|\n",
      "|     joy|    0|\n",
      "|    fear|    3|\n",
      "|   anger|    2|\n",
      "+--------+-----+\n",
      "\n",
      "+--------+-----+\n",
      "| emotion|class|\n",
      "+--------+-----+\n",
      "| sadness|    1|\n",
      "|    love|    4|\n",
      "|surprise|    5|\n",
      "|     joy|    0|\n",
      "|    fear|    3|\n",
      "|   anger|    2|\n",
      "+--------+-----+\n",
      "\n",
      "+--------+-----+\n",
      "|emotion |class|\n",
      "+--------+-----+\n",
      "|sadness |1    |\n",
      "|love    |4    |\n",
      "|surprise|5    |\n",
      "|joy     |0    |\n",
      "|fear    |3    |\n",
      "|anger   |2    |\n",
      "+--------+-----+\n",
      "\n",
      "None\n"
     ]
    }
   ],
   "source": [
    "# fit the StringIndexer to the DataFrame and transform the DataFrame to add the 'class_numeric' column\n",
    "df_training_class = string_indexer.fit(df_training).transform(df_training).withColumn('class', col('class').cast(\"integer\"))\n",
    "df_testing_class = string_indexer.fit(df_testing).transform(df_testing).withColumn('class', col('class').cast(\"integer\"))\n",
    "df_val_class = string_indexer.fit(df_val).transform(df_val).withColumn('class', col('class').cast(\"integer\"))\n",
    "\n",
    "df_label1 = df_training_class.groupBy(\"emotion\",\"class\").count().select(\"emotion\", \"class\").show()\n",
    "df_label2 = df_testing_class.groupBy(\"emotion\",\"class\").count().select(\"emotion\", \"class\").show()\n",
    "df_label3 = df_val_class.groupBy(\"emotion\",\"class\").count().select(\"emotion\", \"class\").show(truncate=False)\n",
    "\n"
   ]
  },
  {
   "cell_type": "code",
   "execution_count": 23,
   "metadata": {},
   "outputs": [
    {
     "name": "stdout",
     "output_type": "stream",
     "text": [
      "+--------+-----+\n",
      "|emotion |class|\n",
      "+--------+-----+\n",
      "|sadness |1    |\n",
      "|love    |4    |\n",
      "|surprise|5    |\n",
      "|joy     |0    |\n",
      "|fear    |3    |\n",
      "|anger   |2    |\n",
      "+--------+-----+\n",
      "\n"
     ]
    }
   ],
   "source": [
    "df_val_class.groupBy(\"emotion\",\"class\").count().select(\"emotion\", \"class\").show(truncate=False)"
   ]
  },
  {
   "attachments": {},
   "cell_type": "markdown",
   "metadata": {},
   "source": [
    "cleaning involves removing punitions and symbols "
   ]
  },
  {
   "cell_type": "code",
   "execution_count": 26,
   "metadata": {},
   "outputs": [],
   "source": [
    "from pyspark.sql import functions as F\n",
    "# cleaning \n",
    "def clean(df):\n",
    "    # Remove html tags from text\n",
    "    df = df.withColumn(\"text_c\", F.regexp_replace(F.col(\"text\"), r'<[^>]+>', \"\"));\n",
    "    # Remove non-letters\n",
    "    df = df.withColumn(\"text_c\", F.regexp_replace(\"text_c\", r\"[^a-zA-Z ]\", \"\"))\n",
    "    # Remove words 1, 2 char\n",
    "    df = df.withColumn(\"text_c\", F.regexp_replace(\"text_c\", r\"\\b\\w{1,2}\\b\", \"\"))\n",
    "    return df\n",
    "\n"
   ]
  },
  {
   "cell_type": "code",
   "execution_count": null,
   "metadata": {},
   "outputs": [],
   "source": []
  }
 ],
 "metadata": {
  "kernelspec": {
   "display_name": "Python 3",
   "language": "python",
   "name": "python3"
  },
  "language_info": {
   "codemirror_mode": {
    "name": "ipython",
    "version": 3
   },
   "file_extension": ".py",
   "mimetype": "text/x-python",
   "name": "python",
   "nbconvert_exporter": "python",
   "pygments_lexer": "ipython3",
   "version": "3.10.6"
  },
  "orig_nbformat": 4,
  "vscode": {
   "interpreter": {
    "hash": "916dbcbb3f70747c44a77c7bcd40155683ae19c65e1c03b4aa3499c5328201f1"
   }
  }
 },
 "nbformat": 4,
 "nbformat_minor": 2
}
